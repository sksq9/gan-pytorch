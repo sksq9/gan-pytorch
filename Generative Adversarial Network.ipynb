{
 "cells": [
  {
   "cell_type": "markdown",
   "metadata": {
    "deletable": true,
    "editable": true
   },
   "source": [
    "## GAN\n",
    "Generative Adversarial Network"
   ]
  },
  {
   "cell_type": "code",
   "execution_count": 24,
   "metadata": {
    "collapsed": true,
    "deletable": true,
    "editable": true
   },
   "outputs": [],
   "source": [
    "import random\n",
    "import numpy as np\n",
    "\n",
    "import torch\n",
    "from torch.autograd import Variable\n",
    "import torch.nn as nn\n",
    "import torch.nn.functional as F\n",
    "import torch.optim as optim\n",
    "\n",
    "%matplotlib inline\n",
    "import matplotlib.pyplot as plt\n",
    "import numpy as np\n",
    "import pandas as pd\n",
    "\n",
    "import seaborn as sns\n",
    "sns.set(color_codes=True)"
   ]
  },
  {
   "cell_type": "markdown",
   "metadata": {
    "deletable": true,
    "editable": true
   },
   "source": [
    "### Real (R) world data\n",
    "\n",
    "The original, genuine data set which G tried to mimic.\n",
    "\n",
    "In our case, we’ll start with the simplest possible R — a bell curve. This function takes a mean and a standard deviation and returns a function which provides the right shape of sample data from a Gaussian with those parameters."
   ]
  },
  {
   "cell_type": "code",
   "execution_count": 2,
   "metadata": {
    "collapsed": false,
    "deletable": true,
    "editable": true
   },
   "outputs": [],
   "source": [
    "def get_distribution_sampler(mu, sigma):\n",
    "    return lambda n: torch.Tensor(np.random.normal(mu, sigma, (1, n)))"
   ]
  },
  {
   "cell_type": "code",
   "execution_count": 23,
   "metadata": {
    "collapsed": false,
    "deletable": true,
    "editable": true
   },
   "outputs": [
    {
     "data": {
      "text/plain": [
       "<matplotlib.axes._subplots.AxesSubplot at 0x7f8738411ef0>"
      ]
     },
     "execution_count": 23,
     "metadata": {},
     "output_type": "execute_result"
    },
    {
     "data": {
      "image/png": "[encoded data removed]",
      "text/plain": [
       "<matplotlib.figure.Figure at 0x7f873839ce80>"
      ]
     },
     "metadata": {},
     "output_type": "display_data"
    }
   ],
   "source": [
    "data = get_distribution_sampler(0, 1)(1000).numpy()\n",
    "sns.distplot(data, bins=100)"
   ]
  },
  {
   "cell_type": "markdown",
   "metadata": {
    "deletable": true,
    "editable": true
   },
   "source": [
    "### Input (I) to generator\n",
    "This is the random noise that goes into the generator as a source of entropy.\n",
    "\n",
    "The input into the generator is also random, but to make our job a little bit harder, let’s use a uniform distribution rather than a normal one. This means that our model G can’t simply shift/scale the input to copy R, but has to reshape the data in a non-linear way."
   ]
  },
  {
   "cell_type": "code",
   "execution_count": 4,
   "metadata": {
    "collapsed": true,
    "deletable": true,
    "editable": true
   },
   "outputs": [],
   "source": [
    "def get_generator_input_sampler():\n",
    "    return lambda n, m: torch.rand(n, m)"
   ]
  },
  {
   "cell_type": "code",
   "execution_count": 20,
   "metadata": {
    "collapsed": false,
    "deletable": true,
    "editable": true
   },
   "outputs": [
    {
     "data": {
      "text/plain": [
       "<matplotlib.axes._subplots.AxesSubplot at 0x7f87388d5278>"
      ]
     },
     "execution_count": 20,
     "metadata": {},
     "output_type": "execute_result"
    },
    {
     "data": {
      "image/png": "[encoded data removed]",
      "text/plain": [
       "<matplotlib.figure.Figure at 0x7f87388e0358>"
      ]
     },
     "metadata": {},
     "output_type": "display_data"
    }
   ],
   "source": [
    "data = get_generator_input_sampler()(1, 1000).numpy()\n",
    "sns.distplot(data, bins=100, kde=False)"
   ]
  },
  {
   "cell_type": "markdown",
   "metadata": {
    "deletable": true,
    "editable": true
   },
   "source": [
    "### Generator\n",
    "\n",
    "The generator is a standard feedforward graph — two hidden layers, three linear maps. We’re using an ELU (exponential linear unit). G is going to get the uniformly distributed data samples from I and somehow mimic the normally distributed samples from R."
   ]
  },
  {
   "cell_type": "code",
   "execution_count": 6,
   "metadata": {
    "collapsed": true,
    "deletable": true,
    "editable": true
   },
   "outputs": [],
   "source": [
    "class Generator(nn.Module):\n",
    "    def __init__(self, input_size, hidden_size, output_size):\n",
    "        super().__init__()\n",
    "        self.fc1 = nn.Linear(input_size, hidden_size)\n",
    "        self.fc2 = nn.Linear(hidden_size, hidden_size)\n",
    "        self.fc3 = nn.Linear(hidden_size, output_size)\n",
    "    \n",
    "    def forward(self, x):\n",
    "        x = F.elu(self.fc1(x))\n",
    "        x = F.sigmoid(self.fc2(x))\n",
    "        x = self.fc3(x)\n",
    "        return x"
   ]
  },
  {
   "cell_type": "markdown",
   "metadata": {
    "deletable": true,
    "editable": true
   },
   "source": [
    "### Discriminator\n",
    "\n",
    "The discriminator code is very similar to G’s generator code; a feedforward graph with two hidden layers and three linear maps. It’s going to get samples from either R or G and will output a single scalar between 0 and 1, interpreted as ‘fake’ vs. ‘real’. This is about as milquetoast as a neural net can get."
   ]
  },
  {
   "cell_type": "code",
   "execution_count": 7,
   "metadata": {
    "collapsed": true,
    "deletable": true,
    "editable": true
   },
   "outputs": [],
   "source": [
    "class Discriminator(nn.Module):\n",
    "    def __init__(self, input_size, hidden_size, output_size):\n",
    "        super().__init__()\n",
    "        self.fc1 = nn.Linear(input_size, hidden_size)\n",
    "        self.fc2 = nn.Linear(hidden_size, hidden_size)\n",
    "        self.fc3 = nn.Linear(hidden_size, output_size)\n",
    "    \n",
    "    def forward(self, x):\n",
    "        x = F.elu(self.fc1(x))\n",
    "        x = F.elu(self.fc2(x))\n",
    "        x = F.sigmoid(self.fc3(x))\n",
    "        return x"
   ]
  },
  {
   "cell_type": "markdown",
   "metadata": {
    "collapsed": true,
    "deletable": true,
    "editable": true
   },
   "source": [
    "### Hyperparams"
   ]
  },
  {
   "cell_type": "code",
   "execution_count": 26,
   "metadata": {
    "collapsed": true
   },
   "outputs": [],
   "source": [
    "# Data params\n",
    "data_mean = 4\n",
    "data_stddev = 1.25"
   ]
  },
  {
   "cell_type": "code",
   "execution_count": null,
   "metadata": {
    "collapsed": true
   },
   "outputs": [],
   "source": [
    "# Model params\n",
    "g_input_size = 1     # Random noise dimension coming into generator, per output vector\n",
    "g_hidden_size = 50   # Generator complexity\n",
    "g_output_size = 1    # size of generated output vector\n",
    "d_input_size = 100   # Minibatch size - cardinality of distributions\n",
    "d_hidden_size = 50   # Discriminator complexity\n",
    "d_output_size = 1    # Single dimension for 'real' vs. 'fake'\n",
    "minibatch_size = d_input_size"
   ]
  },
  {
   "cell_type": "code",
   "execution_count": 126,
   "metadata": {
    "collapsed": true
   },
   "outputs": [],
   "source": [
    "d_learning_rate = 2e-4  # 2e-4\n",
    "g_learning_rate = 2e-4\n",
    "optim_betas = (0.9, 0.999)\n",
    "num_epochs = 30000\n",
    "print_interval = 200\n",
    "d_steps = 1  # 'k' steps in the original GAN paper. Can put the discriminator on higher training freq than generator\n",
    "g_steps = 1"
   ]
  },
  {
   "cell_type": "markdown",
   "metadata": {},
   "source": [
    "### Loss and Optim"
   ]
  },
  {
   "cell_type": "code",
   "execution_count": 41,
   "metadata": {
    "collapsed": false
   },
   "outputs": [
    {
     "data": {
      "text/plain": [
       "Generator (\n",
       "  (fc1): Linear (1 -> 50)\n",
       "  (fc2): Linear (50 -> 50)\n",
       "  (fc3): Linear (50 -> 1)\n",
       ")"
      ]
     },
     "execution_count": 41,
     "metadata": {},
     "output_type": "execute_result"
    }
   ],
   "source": [
    "G = Generator(g_input_size, g_hidden_size, g_output_size)\n",
    "G"
   ]
  },
  {
   "cell_type": "code",
   "execution_count": 49,
   "metadata": {
    "collapsed": false
   },
   "outputs": [
    {
     "data": {
      "text/plain": [
       "Discriminator (\n",
       "  (fc1): Linear (100 -> 50)\n",
       "  (fc2): Linear (50 -> 50)\n",
       "  (fc3): Linear (50 -> 1)\n",
       ")"
      ]
     },
     "execution_count": 49,
     "metadata": {},
     "output_type": "execute_result"
    }
   ],
   "source": [
    "D = Discriminator(d_input_size, d_hidden_size, d_output_size)\n",
    "D"
   ]
  },
  {
   "cell_type": "code",
   "execution_count": 91,
   "metadata": {
    "collapsed": true
   },
   "outputs": [],
   "source": [
    "criterion = nn.BCELoss()  # Binary cross entropy: http://pytorch.org/docs/nn.html#bceloss\n",
    "d_optimizer = optim.Adam(D.parameters(), lr=d_learning_rate, betas=optim_betas)\n",
    "g_optimizer = optim.Adam(G.parameters(), lr=g_learning_rate, betas=optim_betas)"
   ]
  },
  {
   "cell_type": "code",
   "execution_count": 92,
   "metadata": {
    "collapsed": true
   },
   "outputs": [],
   "source": [
    "dsampler = get_distribution_sampler(data_mean, data_stddev)\n",
    "gsampler = get_generator_input_sampler()"
   ]
  },
  {
   "cell_type": "markdown",
   "metadata": {},
   "source": [
    "### Fight"
   ]
  },
  {
   "cell_type": "code",
   "execution_count": 167,
   "metadata": {
    "collapsed": false
   },
   "outputs": [],
   "source": [
    "def v2n(*arg):\n",
    "    return np.array([item.data.numpy()[0][0] for item in arg])"
   ]
  },
  {
   "cell_type": "code",
   "execution_count": 168,
   "metadata": {
    "collapsed": false,
    "deletable": true,
    "editable": true
   },
   "outputs": [
    {
     "name": "stdout",
     "output_type": "stream",
     "text": [
      "[ 0.50552934  0.5122084 ]\n",
      "[ 0.53066742  0.45357904]\n",
      "[ 0.49713629  0.48298573]\n",
      "[ 0.49990106  0.53485209]\n",
      "[ 0.51850826  0.5601294 ]\n",
      "[ 0.58107078  0.49841431]\n",
      "[ 0.50014114  0.47019538]\n",
      "[ 0.49742898  0.45906574]\n",
      "[ 0.54287851  0.55579996]\n",
      "[ 0.46991605  0.49634671]\n",
      "[ 0.43767685  0.51551276]\n",
      "[ 0.4739702  0.4398616]\n",
      "[ 0.57892603  0.5425784 ]\n",
      "[ 0.51397526  0.44095284]\n",
      "[ 0.46995005  0.47025901]\n",
      "[ 0.46864849  0.47100082]\n",
      "[ 0.50822544  0.51623744]\n",
      "[ 0.46344349  0.52792126]\n",
      "[ 0.46087235  0.50311244]\n",
      "[ 0.47588912  0.42152733]\n",
      "[ 0.50024909  0.49259022]\n",
      "[ 0.47241816  0.50484437]\n",
      "[ 0.46877927  0.43974033]\n",
      "[ 0.51767474  0.51230109]\n",
      "[ 0.4943597   0.46362838]\n",
      "[ 0.49751103  0.45552123]\n",
      "[ 0.45024648  0.51980054]\n",
      "[ 0.49242347  0.49380296]\n",
      "[ 0.46829915  0.51105368]\n",
      "[ 0.53946424  0.51754457]\n"
     ]
    }
   ],
   "source": [
    "for epochs in range(num_epochs):\n",
    "    for _ in range(d_steps):\n",
    "        D.zero_grad()\n",
    "        \n",
    "        # 1. train D on real data\n",
    "        d_real_input = Variable(dsampler(d_input_size))\n",
    "        d_real_output = D(d_real_input)\n",
    "        d_target = Variable(torch.ones(1))\n",
    "        d_loss = criterion(d_real_output, d_target)\n",
    "        d_loss.backward()\n",
    "        \n",
    "        # 2. train D on fake data from G\n",
    "        g_input = Variable(gsampler(minibatch_size, g_input_size))\n",
    "        d_fake_input = G(g_input).detach().t()\n",
    "        d_fake_output = D(d_fake_input)\n",
    "        d_target = Variable(torch.zeros(1))\n",
    "        d_loss = criterion(d_fake_output, d_target)\n",
    "        d_loss.backward()\n",
    "        \n",
    "        d_optimizer.step()\n",
    "    \n",
    "    for _ in range(g_steps):\n",
    "        G.zero_grad()\n",
    "        \n",
    "        # produce fake data using I\n",
    "        g_input = Variable(gsampler(minibatch_size, g_input_size))\n",
    "        g_output = G(g_input).t()\n",
    "        \n",
    "        # check the fake data by D\n",
    "        d_output = D(g_output)\n",
    "        d_target = Variable(torch.ones(1))\n",
    "        \n",
    "        # magic\n",
    "        # minimize the loss such that,\n",
    "        # fake data is acceptable\n",
    "        g_loss = criterion(d_output, d_target)\n",
    "        g_loss.backward()\n",
    "        \n",
    "        g_optimizer.step()\n",
    "    \n",
    "    if epochs % 1000 == 0:\n",
    "        print(v2n(d_real_output, d_fake_output))"
   ]
  },
  {
   "cell_type": "code",
   "execution_count": 174,
   "metadata": {
    "collapsed": false
   },
   "outputs": [
    {
     "data": {
      "text/plain": [
       "(4, 1.25)"
      ]
     },
     "execution_count": 174,
     "metadata": {},
     "output_type": "execute_result"
    }
   ],
   "source": [
    "data_mean, data_stddev"
   ]
  },
  {
   "cell_type": "code",
   "execution_count": 173,
   "metadata": {
    "collapsed": false
   },
   "outputs": [
    {
     "data": {
      "text/plain": [
       "<matplotlib.axes._subplots.AxesSubplot at 0x7f873573d438>"
      ]
     },
     "execution_count": 173,
     "metadata": {},
     "output_type": "execute_result"
    },
    {
     "data": {
      "image/png": "[encoded data removed]",
      "text/plain": [
       "<matplotlib.figure.Figure at 0x7f873574d4e0>"
      ]
     },
     "metadata": {},
     "output_type": "display_data"
    }
   ],
   "source": [
    "sns.distplot(g_output.data.numpy(), bins=100)"
   ]
  }
 ],
 "metadata": {
  "anaconda-cloud": {},
  "kernelspec": {
   "display_name": "Python [conda root]",
   "language": "python",
   "name": "conda-root-py"
  },
  "language_info": {
   "codemirror_mode": {
    "name": "ipython",
    "version": 3
   },
   "file_extension": ".py",
   "mimetype": "text/x-python",
   "name": "python",
   "nbconvert_exporter": "python",
   "pygments_lexer": "ipython3",
   "version": "3.5.2"
  }
 },
 "nbformat": 4,
 "nbformat_minor": 1
}
